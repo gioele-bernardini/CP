{
 "cells": [
  {
   "cell_type": "markdown",
   "id": "506e8142-c544-47ae-8d15-7714b303f81b",
   "metadata": {},
   "source": [
    "# Rotate, project, rasterize\n",
    "This notebook briefly explores concepts such as rotation, projection and color blending for 3d objects with no library"
   ]
  },
  {
   "cell_type": "code",
   "execution_count": 2,
   "id": "5082112d-dbd6-400f-8c5e-4f875d423f1c",
   "metadata": {},
   "outputs": [],
   "source": [
    "import numpy as np"
   ]
  },
  {
   "cell_type": "markdown",
   "id": "9be2bf58-55d3-43a8-aae9-68b6af5e571d",
   "metadata": {},
   "source": [
    "An image is just a matrix of pixel, each having a certain amount of color assigned to it"
   ]
  },
  {
   "cell_type": "code",
   "execution_count": 3,
   "id": "871283d3-348f-4768-9312-b430e7ac3ead",
   "metadata": {},
   "outputs": [
    {
     "name": "stdout",
     "output_type": "stream",
     "text": [
      "array([[0., 0., 0., 0., 0., 0., 0., 0., 0., 0., 0., 0., 0., 0., 0., 0.],\n",
      "       [0., 0., 0., 0., 0., 0., 0., 0., 0., 0., 0., 0., 0., 0., 0., 0.],\n",
      "       [0., 0., 0., 0., 0., 0., 0., 0., 0., 0., 0., 0., 0., 0., 0., 0.],\n",
      "       [0., 0., 0., 0., 0., 0., 0., 0., 0., 0., 0., 0., 0., 0., 0., 0.],\n",
      "       [0., 0., 0., 0., 0., 0., 0., 0., 0., 0., 0., 0., 0., 0., 0., 0.],\n",
      "       [0., 0., 0., 0., 0., 0., 0., 0., 0., 0., 0., 0., 0., 0., 0., 0.],\n",
      "       [0., 0., 0., 0., 0., 0., 0., 0., 0., 0., 0., 0., 0., 0., 0., 0.],\n",
      "       [0., 0., 0., 0., 0., 0., 0., 0., 0., 0., 0., 0., 0., 0., 0., 0.]])\n"
     ]
    }
   ],
   "source": [
    "resolution_x = 16\n",
    "resolution_y = 8\n",
    "\n",
    "pic = np.zeros((resolution_y, resolution_x))\n",
    "print(repr(pic))"
   ]
  },
  {
   "cell_type": "code",
   "execution_count": 4,
   "id": "46c54657-aeaf-403a-94cd-a5b4ab26b6aa",
   "metadata": {},
   "outputs": [
    {
     "data": {
      "text/plain": [
       "True"
      ]
     },
     "execution_count": 4,
     "metadata": {},
     "output_type": "execute_result"
    }
   ],
   "source": [
    "import cv2\n",
    "cv2.imwrite(\"pic1.png\", pic)"
   ]
  },
  {
   "cell_type": "code",
   "execution_count": 9,
   "id": "51c572fe-d30e-4c9f-9bc5-1609415d57c2",
   "metadata": {},
   "outputs": [
    {
     "data": {
      "text/plain": [
       "True"
      ]
     },
     "execution_count": 9,
     "metadata": {},
     "output_type": "execute_result"
    }
   ],
   "source": [
    "pic = np.array([\n",
    "        [0., 0., 0., 0., 0., 0., 0., 0., 0., 0., 0., 0., 0., 0., 0., 0.],\n",
    "        [0., 0., 0., 255., 255., 255., 0., 0., 0., 0., 0., 0., 0., 0., 0., 0.],\n",
    "        [0., 0., 0., 255., 0., 255., 0., 0., 0., 0., 0., 0., 0., 0., 0., 0.],\n",
    "        [0., 0., 0., 255., 255., 255., 0., 0., 0., 0., 0., 0., 0., 0., 0., 0.],\n",
    "        [0., 0., 0., 0., 0., 0., 0., 0., 0., 0., 0., 0., 0., 0., 0., 0.],\n",
    "        [0., 0., 0., 0., 0., 0., 0., 0., 0., 0., 0., 0., 0., 0., 0., 0.],\n",
    "        [0., 0., 0., 0., 0., 0., 0., 0., 0., 0., 0., 0., 0., 0., 0., 0.],\n",
    "        [0., 0., 0., 0., 0., 0., 0., 0., 0., 0., 0., 0., 0., 0., 0., 0.]\n",
    "])\n",
    "\n",
    "cv2.imwrite(\"pic2.png\", pic)"
   ]
  },
  {
   "cell_type": "markdown",
   "id": "417605ae-d0e4-40a7-bc0a-3e2fa70191b4",
   "metadata": {},
   "source": [
    "Now, let's try to draw something which is projected, not just bidimensional\n",
    "![Alt text](images/projection.png)"
   ]
  },
  {
   "cell_type": "code",
   "execution_count": null,
   "id": "2506b921-bf40-4879-9689-6c5616b935c4",
   "metadata": {},
   "outputs": [],
   "source": []
  }
 ],
 "metadata": {
  "kernelspec": {
   "display_name": "Python 3 (ipykernel)",
   "language": "python",
   "name": "python3"
  },
  "language_info": {
   "codemirror_mode": {
    "name": "ipython",
    "version": 3
   },
   "file_extension": ".py",
   "mimetype": "text/x-python",
   "name": "python",
   "nbconvert_exporter": "python",
   "pygments_lexer": "ipython3",
   "version": "3.10.12"
  }
 },
 "nbformat": 4,
 "nbformat_minor": 5
}
