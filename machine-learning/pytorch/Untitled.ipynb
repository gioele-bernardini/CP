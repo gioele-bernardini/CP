{
 "cells": [
  {
   "cell_type": "markdown",
   "id": "3530cdda-57b6-4d32-9c4f-f062cda87940",
   "metadata": {},
   "source": [
    "yes yes non dormo piu' stree stress"
   ]
  },
  {
   "cell_type": "code",
   "execution_count": null,
   "id": "e6c4ddc5-5cf7-4201-9ed8-4a4c5310e2a2",
   "metadata": {},
   "outputs": [],
   "source": [
    "tu ce l'hai con me, io ce l'ho con me, sogno ancora senza rap su una moto in 3!"
   ]
  }
 ],
 "metadata": {
  "kernelspec": {
   "display_name": "Python 3 (ipykernel)",
   "language": "python",
   "name": "python3"
  },
  "language_info": {
   "codemirror_mode": {
    "name": "ipython",
    "version": 3
   },
   "file_extension": ".py",
   "mimetype": "text/x-python",
   "name": "python",
   "nbconvert_exporter": "python",
   "pygments_lexer": "ipython3",
   "version": "3.10.12"
  }
 },
 "nbformat": 4,
 "nbformat_minor": 5
}
